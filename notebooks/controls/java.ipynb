{
 "cells": [
  {
   "cell_type": "markdown",
   "metadata": {},
   "source": [
    "## Version"
   ]
  },
  {
   "cell_type": "code",
   "execution_count": 1,
   "metadata": {},
   "outputs": [
    {
     "name": "stdout",
     "output_type": "stream",
     "text": [
      "11.0.7\n"
     ]
    }
   ],
   "source": [
    "System.out.println(System.getProperty(\"java.version\"));"
   ]
  },
  {
   "cell_type": "markdown",
   "metadata": {},
   "source": [
    "## Loop Structure"
   ]
  },
  {
   "cell_type": "code",
   "execution_count": 2,
   "metadata": {},
   "outputs": [
    {
     "name": "stdout",
     "output_type": "stream",
     "text": [
      "11\n",
      "12\n",
      "13\n",
      "14\n"
     ]
    }
   ],
   "source": [
    "int[] a = {11, 12, 13, 14};\n",
    "for(int i = 0; i < a.length; i++){\n",
    "    System.out.println(a[i]);\n",
    "}"
   ]
  },
  {
   "cell_type": "code",
   "execution_count": 3,
   "metadata": {},
   "outputs": [
    {
     "name": "stdout",
     "output_type": "stream",
     "text": [
      "12\n",
      "13\n"
     ]
    }
   ],
   "source": [
    "for(int i : a){\n",
    "    if(i == 11){\n",
    "        continue;\n",
    "    }\n",
    "    if(i == 14){\n",
    "        break;\n",
    "    }\n",
    "    System.out.println(i);\n",
    "}"
   ]
  },
  {
   "cell_type": "code",
   "execution_count": 4,
   "metadata": {},
   "outputs": [
    {
     "name": "stdout",
     "output_type": "stream",
     "text": [
      "11\n",
      "12\n",
      "13\n",
      "14\n"
     ]
    }
   ],
   "source": [
    "int i = 0;\n",
    "while(i < a.length){\n",
    "    System.out.println(a[i]);\n",
    "    i++;\n",
    "}"
   ]
  },
  {
   "cell_type": "code",
   "execution_count": 5,
   "metadata": {},
   "outputs": [
    {
     "name": "stdout",
     "output_type": "stream",
     "text": [
      "11\n",
      "12\n",
      "13\n",
      "14\n"
     ]
    }
   ],
   "source": [
    "int i = 0;\n",
    "do{\n",
    "    System.out.println(a[i]);\n",
    "    i++;\n",
    "}while(i < a.length);"
   ]
  },
  {
   "cell_type": "markdown",
   "metadata": {},
   "source": [
    "## Branch Structure"
   ]
  },
  {
   "cell_type": "code",
   "execution_count": 6,
   "metadata": {},
   "outputs": [
    {
     "name": "stdout",
     "output_type": "stream",
     "text": [
      "Between 0 and 10\n"
     ]
    }
   ],
   "source": [
    "int i = 3;\n",
    "if(i > 10){\n",
    "    System.out.println(\"Greater than 10\");\n",
    "}else if(i < 0){\n",
    "    System.out.println(\"Less than 0\");\n",
    "}else{\n",
    "    System.out.println(\"Between 0 and 10\");\n",
    "}"
   ]
  },
  {
   "cell_type": "code",
   "execution_count": 7,
   "metadata": {},
   "outputs": [
    {
     "name": "stdout",
     "output_type": "stream",
     "text": [
      "It is 3\n",
      "It is 4\n"
     ]
    }
   ],
   "source": [
    "switch(i){\n",
    "    case 2:\n",
    "        System.out.println(\"It is 2\");\n",
    "        break;\n",
    "    case 3:\n",
    "        System.out.println(\"It is 3\");\n",
    "    case 4:\n",
    "        System.out.println(\"It is 4\");\n",
    "        break;\n",
    "    default:\n",
    "        System.out.println(\"No idea\");\n",
    "}"
   ]
  }
 ],
 "metadata": {
  "kernelspec": {
   "display_name": "Java",
   "language": "java",
   "name": "java"
  },
  "language_info": {
   "codemirror_mode": "java",
   "file_extension": ".jshell",
   "mimetype": "text/x-java-source",
   "name": "Java",
   "pygments_lexer": "java",
   "version": "11.0.7+10-post-Ubuntu-2ubuntu218.04"
  }
 },
 "nbformat": 4,
 "nbformat_minor": 4
}
